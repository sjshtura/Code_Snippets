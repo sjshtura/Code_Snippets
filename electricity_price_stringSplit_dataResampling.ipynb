{
 "metadata": {
  "language_info": {
   "codemirror_mode": {
    "name": "ipython",
    "version": 3
   },
   "file_extension": ".py",
   "mimetype": "text/x-python",
   "name": "python",
   "nbconvert_exporter": "python",
   "pygments_lexer": "ipython3",
   "version": "3.9.6"
  },
  "orig_nbformat": 4,
  "kernelspec": {
   "name": "python3",
   "display_name": "Python 3.9.6 64-bit"
  },
  "interpreter": {
   "hash": "aee8b7b246df8f9039afb4144a1f6fd8d2ca17a180786b69acc140d282b71a49"
  }
 },
 "nbformat": 4,
 "nbformat_minor": 2,
 "cells": [
  {
   "cell_type": "code",
   "execution_count": 33,
   "metadata": {},
   "outputs": [],
   "source": [
    "import pandas as pd\n",
    "import matplotlib.pyplot as plt\n",
    "import numpy as np\n",
    "from scipy import interpolate\n",
    "from scipy.interpolate import InterpolatedUnivariateSpline"
   ]
  },
  {
   "cell_type": "code",
   "execution_count": 34,
   "metadata": {},
   "outputs": [
    {
     "output_type": "execute_result",
     "data": {
      "text/plain": [
       "        index  Unnamed: 1\n",
       "0  1. HJ 2008       21.48\n",
       "1  2. HJ 2008       21.95\n",
       "2  1. HJ 2009       22.82\n",
       "3  2. HJ 2009       22.94\n",
       "4  1. HJ 2010       23.75"
      ],
      "text/html": "<div>\n<style scoped>\n    .dataframe tbody tr th:only-of-type {\n        vertical-align: middle;\n    }\n\n    .dataframe tbody tr th {\n        vertical-align: top;\n    }\n\n    .dataframe thead th {\n        text-align: right;\n    }\n</style>\n<table border=\"1\" class=\"dataframe\">\n  <thead>\n    <tr style=\"text-align: right;\">\n      <th></th>\n      <th>index</th>\n      <th>Unnamed: 1</th>\n    </tr>\n  </thead>\n  <tbody>\n    <tr>\n      <th>0</th>\n      <td>1. HJ 2008</td>\n      <td>21.48</td>\n    </tr>\n    <tr>\n      <th>1</th>\n      <td>2. HJ 2008</td>\n      <td>21.95</td>\n    </tr>\n    <tr>\n      <th>2</th>\n      <td>1. HJ 2009</td>\n      <td>22.82</td>\n    </tr>\n    <tr>\n      <th>3</th>\n      <td>2. HJ 2009</td>\n      <td>22.94</td>\n    </tr>\n    <tr>\n      <th>4</th>\n      <td>1. HJ 2010</td>\n      <td>23.75</td>\n    </tr>\n  </tbody>\n</table>\n</div>"
     },
     "metadata": {},
     "execution_count": 34
    }
   ],
   "source": [
    "household_prices_without_VAT = pd.read_excel(r'/Users/shakhawathossainturag/Downloads/Energiepreisentwicklung.xlsx',sheet_name='5.8.2 Strom - € - Haushalte', skiprows = 5, nrows = 26, index_col = 0)\n",
    "household_prices_without_VAT = household_prices_without_VAT.iloc[:,0]\n",
    "#household_prices_without_VAT.columns = [\"year\",\"price\"]\n",
    "household_prices_without_VAT = household_prices_without_VAT.reset_index()\n",
    "household_prices_without_VAT.head()"
   ]
  },
  {
   "cell_type": "code",
   "execution_count": 35,
   "metadata": {},
   "outputs": [],
   "source": [
    "\n",
    "household_prices_without_VAT[\"index\"]= household_prices_without_VAT[\"index\"].str.slice(start = 5)\n",
    "household_prices_without_VAT.columns = [\"year\",\"price\"]\n"
   ]
  },
  {
   "cell_type": "code",
   "execution_count": 36,
   "metadata": {},
   "outputs": [
    {
     "output_type": "execute_result",
     "data": {
      "text/plain": [
       "     year  price\n",
       "0    2008  21.48\n",
       "1    2008  21.95\n",
       "2    2009  22.82\n",
       "3    2009  22.94\n",
       "4    2010  23.75\n",
       "5    2010  24.38\n",
       "6    2011  25.28\n",
       "7    2011  25.31\n",
       "8    2012  25.95\n",
       "9    2012  26.76\n",
       "10   2013  29.19\n",
       "11   2013  29.21\n",
       "12   2014  29.81\n",
       "13   2014  29.74\n",
       "14   2015  29.51\n",
       "15   2015  29.46\n",
       "16   2016  29.69\n",
       "17   2016  29.77\n",
       "18   2017  30.48\n",
       "19   2017  30.48\n",
       "20   2018  29.87\n",
       "21   2018  30.00\n",
       "22   2019  30.88\n",
       "23   2019  28.78\n",
       "24   2020  30.43\n",
       "25   2020  30.06"
      ],
      "text/html": "<div>\n<style scoped>\n    .dataframe tbody tr th:only-of-type {\n        vertical-align: middle;\n    }\n\n    .dataframe tbody tr th {\n        vertical-align: top;\n    }\n\n    .dataframe thead th {\n        text-align: right;\n    }\n</style>\n<table border=\"1\" class=\"dataframe\">\n  <thead>\n    <tr style=\"text-align: right;\">\n      <th></th>\n      <th>year</th>\n      <th>price</th>\n    </tr>\n  </thead>\n  <tbody>\n    <tr>\n      <th>0</th>\n      <td>2008</td>\n      <td>21.48</td>\n    </tr>\n    <tr>\n      <th>1</th>\n      <td>2008</td>\n      <td>21.95</td>\n    </tr>\n    <tr>\n      <th>2</th>\n      <td>2009</td>\n      <td>22.82</td>\n    </tr>\n    <tr>\n      <th>3</th>\n      <td>2009</td>\n      <td>22.94</td>\n    </tr>\n    <tr>\n      <th>4</th>\n      <td>2010</td>\n      <td>23.75</td>\n    </tr>\n    <tr>\n      <th>5</th>\n      <td>2010</td>\n      <td>24.38</td>\n    </tr>\n    <tr>\n      <th>6</th>\n      <td>2011</td>\n      <td>25.28</td>\n    </tr>\n    <tr>\n      <th>7</th>\n      <td>2011</td>\n      <td>25.31</td>\n    </tr>\n    <tr>\n      <th>8</th>\n      <td>2012</td>\n      <td>25.95</td>\n    </tr>\n    <tr>\n      <th>9</th>\n      <td>2012</td>\n      <td>26.76</td>\n    </tr>\n    <tr>\n      <th>10</th>\n      <td>2013</td>\n      <td>29.19</td>\n    </tr>\n    <tr>\n      <th>11</th>\n      <td>2013</td>\n      <td>29.21</td>\n    </tr>\n    <tr>\n      <th>12</th>\n      <td>2014</td>\n      <td>29.81</td>\n    </tr>\n    <tr>\n      <th>13</th>\n      <td>2014</td>\n      <td>29.74</td>\n    </tr>\n    <tr>\n      <th>14</th>\n      <td>2015</td>\n      <td>29.51</td>\n    </tr>\n    <tr>\n      <th>15</th>\n      <td>2015</td>\n      <td>29.46</td>\n    </tr>\n    <tr>\n      <th>16</th>\n      <td>2016</td>\n      <td>29.69</td>\n    </tr>\n    <tr>\n      <th>17</th>\n      <td>2016</td>\n      <td>29.77</td>\n    </tr>\n    <tr>\n      <th>18</th>\n      <td>2017</td>\n      <td>30.48</td>\n    </tr>\n    <tr>\n      <th>19</th>\n      <td>2017</td>\n      <td>30.48</td>\n    </tr>\n    <tr>\n      <th>20</th>\n      <td>2018</td>\n      <td>29.87</td>\n    </tr>\n    <tr>\n      <th>21</th>\n      <td>2018</td>\n      <td>30.00</td>\n    </tr>\n    <tr>\n      <th>22</th>\n      <td>2019</td>\n      <td>30.88</td>\n    </tr>\n    <tr>\n      <th>23</th>\n      <td>2019</td>\n      <td>28.78</td>\n    </tr>\n    <tr>\n      <th>24</th>\n      <td>2020</td>\n      <td>30.43</td>\n    </tr>\n    <tr>\n      <th>25</th>\n      <td>2020</td>\n      <td>30.06</td>\n    </tr>\n  </tbody>\n</table>\n</div>"
     },
     "metadata": {},
     "execution_count": 36
    }
   ],
   "source": [
    "household_prices_without_VAT"
   ]
  },
  {
   "cell_type": "code",
   "execution_count": 36,
   "metadata": {},
   "outputs": [],
   "source": [
    "\n"
   ]
  },
  {
   "cell_type": "code",
   "execution_count": 37,
   "metadata": {},
   "outputs": [
    {
     "output_type": "execute_result",
     "data": {
      "text/plain": [
       "             price\n",
       "year              \n",
       "2008-01-31  21.715\n",
       "2009-01-31  22.880\n",
       "2010-01-31  24.065\n",
       "2011-01-31  25.295\n",
       "2012-01-31  26.355\n",
       "2013-01-31  29.200\n",
       "2014-01-31  29.775\n",
       "2015-01-31  29.485\n",
       "2016-01-31  29.730\n",
       "2017-01-31  30.480\n",
       "2018-01-31  29.935\n",
       "2019-01-31  29.830\n",
       "2020-01-31  30.245"
      ],
      "text/html": "<div>\n<style scoped>\n    .dataframe tbody tr th:only-of-type {\n        vertical-align: middle;\n    }\n\n    .dataframe tbody tr th {\n        vertical-align: top;\n    }\n\n    .dataframe thead th {\n        text-align: right;\n    }\n</style>\n<table border=\"1\" class=\"dataframe\">\n  <thead>\n    <tr style=\"text-align: right;\">\n      <th></th>\n      <th>price</th>\n    </tr>\n    <tr>\n      <th>year</th>\n      <th></th>\n    </tr>\n  </thead>\n  <tbody>\n    <tr>\n      <th>2008-01-31</th>\n      <td>21.715</td>\n    </tr>\n    <tr>\n      <th>2009-01-31</th>\n      <td>22.880</td>\n    </tr>\n    <tr>\n      <th>2010-01-31</th>\n      <td>24.065</td>\n    </tr>\n    <tr>\n      <th>2011-01-31</th>\n      <td>25.295</td>\n    </tr>\n    <tr>\n      <th>2012-01-31</th>\n      <td>26.355</td>\n    </tr>\n    <tr>\n      <th>2013-01-31</th>\n      <td>29.200</td>\n    </tr>\n    <tr>\n      <th>2014-01-31</th>\n      <td>29.775</td>\n    </tr>\n    <tr>\n      <th>2015-01-31</th>\n      <td>29.485</td>\n    </tr>\n    <tr>\n      <th>2016-01-31</th>\n      <td>29.730</td>\n    </tr>\n    <tr>\n      <th>2017-01-31</th>\n      <td>30.480</td>\n    </tr>\n    <tr>\n      <th>2018-01-31</th>\n      <td>29.935</td>\n    </tr>\n    <tr>\n      <th>2019-01-31</th>\n      <td>29.830</td>\n    </tr>\n    <tr>\n      <th>2020-01-31</th>\n      <td>30.245</td>\n    </tr>\n  </tbody>\n</table>\n</div>"
     },
     "metadata": {},
     "execution_count": 37
    }
   ],
   "source": [
    "household_prices_without_VAT = household_prices_without_VAT.set_index(\"year\")\n",
    "\n",
    "household_prices_without_VAT.index = household_prices_without_VAT.index.astype(str)\n",
    "household_prices_without_VAT.index =  pd.to_datetime(household_prices_without_VAT.index, errors='ignore')\n",
    "household_prices_without_VAT = household_prices_without_VAT.astype(float)\n",
    "household_prices_without_VAT = household_prices_without_VAT.resample('12M').mean()\n",
    "household_prices_without_VAT.index = household_prices_without_VAT.index.astype(str)\n",
    "household_prices_without_VAT"
   ]
  },
  {
   "cell_type": "code",
   "execution_count": 38,
   "metadata": {},
   "outputs": [
    {
     "output_type": "execute_result",
     "data": {
      "text/plain": [
       "       price\n",
       "year        \n",
       "2008  21.715\n",
       "2009  22.880\n",
       "2010  24.065\n",
       "2011  25.295\n",
       "2012  26.355\n",
       "2013  29.200\n",
       "2014  29.775\n",
       "2015  29.485\n",
       "2016  29.730\n",
       "2017  30.480\n",
       "2018  29.935\n",
       "2019  29.830\n",
       "2020  30.245"
      ],
      "text/html": "<div>\n<style scoped>\n    .dataframe tbody tr th:only-of-type {\n        vertical-align: middle;\n    }\n\n    .dataframe tbody tr th {\n        vertical-align: top;\n    }\n\n    .dataframe thead th {\n        text-align: right;\n    }\n</style>\n<table border=\"1\" class=\"dataframe\">\n  <thead>\n    <tr style=\"text-align: right;\">\n      <th></th>\n      <th>price</th>\n    </tr>\n    <tr>\n      <th>year</th>\n      <th></th>\n    </tr>\n  </thead>\n  <tbody>\n    <tr>\n      <th>2008</th>\n      <td>21.715</td>\n    </tr>\n    <tr>\n      <th>2009</th>\n      <td>22.880</td>\n    </tr>\n    <tr>\n      <th>2010</th>\n      <td>24.065</td>\n    </tr>\n    <tr>\n      <th>2011</th>\n      <td>25.295</td>\n    </tr>\n    <tr>\n      <th>2012</th>\n      <td>26.355</td>\n    </tr>\n    <tr>\n      <th>2013</th>\n      <td>29.200</td>\n    </tr>\n    <tr>\n      <th>2014</th>\n      <td>29.775</td>\n    </tr>\n    <tr>\n      <th>2015</th>\n      <td>29.485</td>\n    </tr>\n    <tr>\n      <th>2016</th>\n      <td>29.730</td>\n    </tr>\n    <tr>\n      <th>2017</th>\n      <td>30.480</td>\n    </tr>\n    <tr>\n      <th>2018</th>\n      <td>29.935</td>\n    </tr>\n    <tr>\n      <th>2019</th>\n      <td>29.830</td>\n    </tr>\n    <tr>\n      <th>2020</th>\n      <td>30.245</td>\n    </tr>\n  </tbody>\n</table>\n</div>"
     },
     "metadata": {},
     "execution_count": 38
    }
   ],
   "source": [
    "household_prices_without_VAT.index= household_prices_without_VAT.index.str.slice(start = 0, stop = -6)\n",
    "household_prices_without_VAT"
   ]
  },
  {
   "cell_type": "code",
   "execution_count": 39,
   "metadata": {},
   "outputs": [
    {
     "output_type": "execute_result",
     "data": {
      "text/plain": [
       "       price\n",
       "year        \n",
       "2014  29.775\n",
       "2015  29.485\n",
       "2016  29.730\n",
       "2017  30.480\n",
       "2018  29.935\n",
       "2019  29.830\n",
       "2020  30.245"
      ],
      "text/html": "<div>\n<style scoped>\n    .dataframe tbody tr th:only-of-type {\n        vertical-align: middle;\n    }\n\n    .dataframe tbody tr th {\n        vertical-align: top;\n    }\n\n    .dataframe thead th {\n        text-align: right;\n    }\n</style>\n<table border=\"1\" class=\"dataframe\">\n  <thead>\n    <tr style=\"text-align: right;\">\n      <th></th>\n      <th>price</th>\n    </tr>\n    <tr>\n      <th>year</th>\n      <th></th>\n    </tr>\n  </thead>\n  <tbody>\n    <tr>\n      <th>2014</th>\n      <td>29.775</td>\n    </tr>\n    <tr>\n      <th>2015</th>\n      <td>29.485</td>\n    </tr>\n    <tr>\n      <th>2016</th>\n      <td>29.730</td>\n    </tr>\n    <tr>\n      <th>2017</th>\n      <td>30.480</td>\n    </tr>\n    <tr>\n      <th>2018</th>\n      <td>29.935</td>\n    </tr>\n    <tr>\n      <th>2019</th>\n      <td>29.830</td>\n    </tr>\n    <tr>\n      <th>2020</th>\n      <td>30.245</td>\n    </tr>\n  </tbody>\n</table>\n</div>"
     },
     "metadata": {},
     "execution_count": 39
    }
   ],
   "source": [
    "household_prices_without_VAT[6:]"
   ]
  },
  {
   "cell_type": "code",
   "execution_count": null,
   "metadata": {},
   "outputs": [],
   "source": []
  },
  {
   "cell_type": "code",
   "execution_count": 42,
   "metadata": {},
   "outputs": [
    {
     "output_type": "stream",
     "name": "stdout",
     "text": [
      "Do you have predefined value for electricity price?\n",
      "Yes = 1 / No = 2\n",
      "1\n"
     ]
    }
   ],
   "source": [
    "\n",
    "\n",
    "print(\"Do you have predefined value for electricity price?\")\n",
    "print(\"Yes = 1 / No = 2\")\n",
    "#choose = 0\n",
    "val = input(\"Enter your value: \")\n",
    "val = int(val)\n",
    "if (val == 1):\n",
    "    val1 = input(\"Enter your value: \")\n",
    "    print(val1)\n",
    "elif (val == 2):\n",
    "    print(\"The function\")\n",
    "\n"
   ]
  },
  {
   "cell_type": "code",
   "execution_count": null,
   "metadata": {},
   "outputs": [],
   "source": []
  }
 ]
}