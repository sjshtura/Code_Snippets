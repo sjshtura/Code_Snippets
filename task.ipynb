{
 "metadata": {
  "language_info": {
   "codemirror_mode": {
    "name": "ipython",
    "version": 3
   },
   "file_extension": ".py",
   "mimetype": "text/x-python",
   "name": "python",
   "nbconvert_exporter": "python",
   "pygments_lexer": "ipython3",
   "version": "3.9.6"
  },
  "orig_nbformat": 4,
  "kernelspec": {
   "name": "python3",
   "display_name": "Python 3.9.6 64-bit"
  },
  "interpreter": {
   "hash": "aee8b7b246df8f9039afb4144a1f6fd8d2ca17a180786b69acc140d282b71a49"
  }
 },
 "nbformat": 4,
 "nbformat_minor": 2,
 "cells": [
  {
   "cell_type": "code",
   "execution_count": 112,
   "metadata": {},
   "outputs": [],
   "source": [
    "import pandas as pd\n",
    "import matplotlib.pyplot as plt\n",
    "import numpy as np\n",
    "from scipy import interpolate\n",
    "from scipy.interpolate import InterpolatedUnivariateSpline"
   ]
  },
  {
   "cell_type": "code",
   "execution_count": 113,
   "metadata": {},
   "outputs": [
    {
     "output_type": "execute_result",
     "data": {
      "text/plain": [
       "   Hour of the Day  Price (Euro/MWh)  Unnamed: 2  Mean HT (Euro/MWh)  \\\n",
       "0              8.0             27.21         NaN           32.119344   \n",
       "1              9.0             27.96         NaN                 NaN   \n",
       "2             10.0             25.50         NaN                 NaN   \n",
       "3             11.0             21.97         NaN                 NaN   \n",
       "4             12.0             20.27         NaN                 NaN   \n",
       "\n",
       "  Unnamed: 4     dtDate  intHour  dblPrice  Mean Yearly Price (Euro/MWh)  \\\n",
       "0  Wednesday 2020-01-01        1     41.88                     30.471694   \n",
       "1        NaN 2020-01-01        2     38.60                           NaN   \n",
       "2        NaN 2020-01-01        3     36.55                           NaN   \n",
       "3        NaN 2020-01-01        4     32.32                           NaN   \n",
       "4        NaN 2020-01-01        5     30.85                           NaN   \n",
       "\n",
       "    dtDate.1  ...  Mean HT   dtDate.2  intHour.2 dblPrice.2  Mean NT  \\\n",
       "0 2020-01-01  ...      NaN 2020-01-01          1      41.88      NaN   \n",
       "1 2020-01-01  ...      NaN 2020-01-01          2      38.60      NaN   \n",
       "2 2020-01-01  ...      NaN 2020-01-01          3      36.55      NaN   \n",
       "3 2020-01-01  ...      NaN 2020-01-01          4      32.32      NaN   \n",
       "4 2020-01-01  ...      NaN 2020-01-01          5      30.85      NaN   \n",
       "\n",
       "   Unnamed: 17  Unnamed: 18  Unnamed: 19  Unnamed: 20  \\\n",
       "0          NaN          NaN          NaN          NaN   \n",
       "1          NaN          NaN          NaN          NaN   \n",
       "2          NaN          NaN          NaN          NaN   \n",
       "3          NaN          NaN          NaN          NaN   \n",
       "4          NaN          NaN          NaN          NaN   \n",
       "\n",
       "              Haupt Traif (HT): 8:00-19:00  \n",
       "0  Neben Tarif (NT): 20:00-7:00 + Weekends  \n",
       "1                                      NaN  \n",
       "2                                      NaN  \n",
       "3                                      NaN  \n",
       "4                                      NaN  \n",
       "\n",
       "[5 rows x 22 columns]"
      ],
      "text/html": "<div>\n<style scoped>\n    .dataframe tbody tr th:only-of-type {\n        vertical-align: middle;\n    }\n\n    .dataframe tbody tr th {\n        vertical-align: top;\n    }\n\n    .dataframe thead th {\n        text-align: right;\n    }\n</style>\n<table border=\"1\" class=\"dataframe\">\n  <thead>\n    <tr style=\"text-align: right;\">\n      <th></th>\n      <th>Hour of the Day</th>\n      <th>Price (Euro/MWh)</th>\n      <th>Unnamed: 2</th>\n      <th>Mean HT (Euro/MWh)</th>\n      <th>Unnamed: 4</th>\n      <th>dtDate</th>\n      <th>intHour</th>\n      <th>dblPrice</th>\n      <th>Mean Yearly Price (Euro/MWh)</th>\n      <th>dtDate.1</th>\n      <th>...</th>\n      <th>Mean HT</th>\n      <th>dtDate.2</th>\n      <th>intHour.2</th>\n      <th>dblPrice.2</th>\n      <th>Mean NT</th>\n      <th>Unnamed: 17</th>\n      <th>Unnamed: 18</th>\n      <th>Unnamed: 19</th>\n      <th>Unnamed: 20</th>\n      <th>Haupt Traif (HT): 8:00-19:00</th>\n    </tr>\n  </thead>\n  <tbody>\n    <tr>\n      <th>0</th>\n      <td>8.0</td>\n      <td>27.21</td>\n      <td>NaN</td>\n      <td>32.119344</td>\n      <td>Wednesday</td>\n      <td>2020-01-01</td>\n      <td>1</td>\n      <td>41.88</td>\n      <td>30.471694</td>\n      <td>2020-01-01</td>\n      <td>...</td>\n      <td>NaN</td>\n      <td>2020-01-01</td>\n      <td>1</td>\n      <td>41.88</td>\n      <td>NaN</td>\n      <td>NaN</td>\n      <td>NaN</td>\n      <td>NaN</td>\n      <td>NaN</td>\n      <td>Neben Tarif (NT): 20:00-7:00 + Weekends</td>\n    </tr>\n    <tr>\n      <th>1</th>\n      <td>9.0</td>\n      <td>27.96</td>\n      <td>NaN</td>\n      <td>NaN</td>\n      <td>NaN</td>\n      <td>2020-01-01</td>\n      <td>2</td>\n      <td>38.60</td>\n      <td>NaN</td>\n      <td>2020-01-01</td>\n      <td>...</td>\n      <td>NaN</td>\n      <td>2020-01-01</td>\n      <td>2</td>\n      <td>38.60</td>\n      <td>NaN</td>\n      <td>NaN</td>\n      <td>NaN</td>\n      <td>NaN</td>\n      <td>NaN</td>\n      <td>NaN</td>\n    </tr>\n    <tr>\n      <th>2</th>\n      <td>10.0</td>\n      <td>25.50</td>\n      <td>NaN</td>\n      <td>NaN</td>\n      <td>NaN</td>\n      <td>2020-01-01</td>\n      <td>3</td>\n      <td>36.55</td>\n      <td>NaN</td>\n      <td>2020-01-01</td>\n      <td>...</td>\n      <td>NaN</td>\n      <td>2020-01-01</td>\n      <td>3</td>\n      <td>36.55</td>\n      <td>NaN</td>\n      <td>NaN</td>\n      <td>NaN</td>\n      <td>NaN</td>\n      <td>NaN</td>\n      <td>NaN</td>\n    </tr>\n    <tr>\n      <th>3</th>\n      <td>11.0</td>\n      <td>21.97</td>\n      <td>NaN</td>\n      <td>NaN</td>\n      <td>NaN</td>\n      <td>2020-01-01</td>\n      <td>4</td>\n      <td>32.32</td>\n      <td>NaN</td>\n      <td>2020-01-01</td>\n      <td>...</td>\n      <td>NaN</td>\n      <td>2020-01-01</td>\n      <td>4</td>\n      <td>32.32</td>\n      <td>NaN</td>\n      <td>NaN</td>\n      <td>NaN</td>\n      <td>NaN</td>\n      <td>NaN</td>\n      <td>NaN</td>\n    </tr>\n    <tr>\n      <th>4</th>\n      <td>12.0</td>\n      <td>20.27</td>\n      <td>NaN</td>\n      <td>NaN</td>\n      <td>NaN</td>\n      <td>2020-01-01</td>\n      <td>5</td>\n      <td>30.85</td>\n      <td>NaN</td>\n      <td>2020-01-01</td>\n      <td>...</td>\n      <td>NaN</td>\n      <td>2020-01-01</td>\n      <td>5</td>\n      <td>30.85</td>\n      <td>NaN</td>\n      <td>NaN</td>\n      <td>NaN</td>\n      <td>NaN</td>\n      <td>NaN</td>\n      <td>NaN</td>\n    </tr>\n  </tbody>\n</table>\n<p>5 rows × 22 columns</p>\n</div>"
     },
     "metadata": {},
     "execution_count": 113
    }
   ],
   "source": [
    "data = pd.read_excel(r'/Users/shakhawathossainturag/Downloads/HT_NT_Data.xlsx')\n",
    "\n",
    "# industrie_prices_without_VAT = pd.read_excel(r'/Users/shakhawathossainturag/Downloads/HT_NT_Data.xlsx\",sheet_name='5.8.3 Strom - € - Industrie', skiprows = 5, nrows = 26, index_col = 0)\n",
    "data.head()"
   ]
  },
  {
   "cell_type": "code",
   "execution_count": 114,
   "metadata": {},
   "outputs": [
    {
     "output_type": "execute_result",
     "data": {
      "text/plain": [
       "        Date  hour  price\n",
       "0 2020-01-01     1  41.88\n",
       "1 2020-01-01     2  38.60\n",
       "2 2020-01-01     3  36.55\n",
       "3 2020-01-01     4  32.32\n",
       "4 2020-01-01     5  30.85"
      ],
      "text/html": "<div>\n<style scoped>\n    .dataframe tbody tr th:only-of-type {\n        vertical-align: middle;\n    }\n\n    .dataframe tbody tr th {\n        vertical-align: top;\n    }\n\n    .dataframe thead th {\n        text-align: right;\n    }\n</style>\n<table border=\"1\" class=\"dataframe\">\n  <thead>\n    <tr style=\"text-align: right;\">\n      <th></th>\n      <th>Date</th>\n      <th>hour</th>\n      <th>price</th>\n    </tr>\n  </thead>\n  <tbody>\n    <tr>\n      <th>0</th>\n      <td>2020-01-01</td>\n      <td>1</td>\n      <td>41.88</td>\n    </tr>\n    <tr>\n      <th>1</th>\n      <td>2020-01-01</td>\n      <td>2</td>\n      <td>38.60</td>\n    </tr>\n    <tr>\n      <th>2</th>\n      <td>2020-01-01</td>\n      <td>3</td>\n      <td>36.55</td>\n    </tr>\n    <tr>\n      <th>3</th>\n      <td>2020-01-01</td>\n      <td>4</td>\n      <td>32.32</td>\n    </tr>\n    <tr>\n      <th>4</th>\n      <td>2020-01-01</td>\n      <td>5</td>\n      <td>30.85</td>\n    </tr>\n  </tbody>\n</table>\n</div>"
     },
     "metadata": {},
     "execution_count": 114
    }
   ],
   "source": [
    "new_data = data[[\"dtDate.2\", \"intHour.2\", \"dblPrice.2\"]]\n",
    "new_data = new_data.rename(columns={\"dtDate.2\": \"Date\", \"intHour.2\": \"hour\", \"dblPrice.2\": \"price\"})\n",
    "new_data.head()"
   ]
  },
  {
   "cell_type": "code",
   "execution_count": 122,
   "metadata": {},
   "outputs": [],
   "source": [
    "# https://stackoverflow.com/questions/47150709/how-to-create-a-calendar-table-date-dimension-in-pandas\n",
    "\n",
    "def create_date_table(start='2020-01-01', end='2020-12-31'):\n",
    "    start_ts = pd.to_datetime(start).date()\n",
    "\n",
    "    end_ts = pd.to_datetime(end).date()\n",
    "\n",
    "    # record timetsamp is empty for now\n",
    "    dates =  pd.DataFrame(columns=['Record_timestamp'],\n",
    "        index=pd.date_range(start_ts, end_ts))\n",
    "    dates.index.name = 'Date'\n",
    "\n",
    "    days_names = {\n",
    "        i: name\n",
    "        for i, name\n",
    "        in enumerate(['Monday', 'Tuesday', 'Wednesday',\n",
    "                      'Thursday', 'Friday', 'Saturday', \n",
    "                      'Sunday'])\n",
    "    }\n",
    "\n",
    "    dates['Day'] = dates.index.dayofweek.map(days_names.get)\n",
    "    dates['Month'] = dates.index.month\n",
    "    dates.reset_index(inplace=True)\n",
    "    dates.index.name = 'date_id'\n",
    "    return dates"
   ]
  },
  {
   "cell_type": "code",
   "execution_count": 123,
   "metadata": {},
   "outputs": [
    {
     "output_type": "execute_result",
     "data": {
      "text/plain": [
       "              Date        Day\n",
       "date_id                      \n",
       "0       2020-01-01  Wednesday\n",
       "1       2020-01-02   Thursday\n",
       "2       2020-01-03     Friday\n",
       "3       2020-01-04   Saturday\n",
       "4       2020-01-05     Sunday\n",
       "...            ...        ...\n",
       "361     2020-12-27     Sunday\n",
       "362     2020-12-28     Monday\n",
       "363     2020-12-29    Tuesday\n",
       "364     2020-12-30  Wednesday\n",
       "365     2020-12-31   Thursday\n",
       "\n",
       "[366 rows x 2 columns]"
      ],
      "text/html": "<div>\n<style scoped>\n    .dataframe tbody tr th:only-of-type {\n        vertical-align: middle;\n    }\n\n    .dataframe tbody tr th {\n        vertical-align: top;\n    }\n\n    .dataframe thead th {\n        text-align: right;\n    }\n</style>\n<table border=\"1\" class=\"dataframe\">\n  <thead>\n    <tr style=\"text-align: right;\">\n      <th></th>\n      <th>Date</th>\n      <th>Day</th>\n    </tr>\n    <tr>\n      <th>date_id</th>\n      <th></th>\n      <th></th>\n    </tr>\n  </thead>\n  <tbody>\n    <tr>\n      <th>0</th>\n      <td>2020-01-01</td>\n      <td>Wednesday</td>\n    </tr>\n    <tr>\n      <th>1</th>\n      <td>2020-01-02</td>\n      <td>Thursday</td>\n    </tr>\n    <tr>\n      <th>2</th>\n      <td>2020-01-03</td>\n      <td>Friday</td>\n    </tr>\n    <tr>\n      <th>3</th>\n      <td>2020-01-04</td>\n      <td>Saturday</td>\n    </tr>\n    <tr>\n      <th>4</th>\n      <td>2020-01-05</td>\n      <td>Sunday</td>\n    </tr>\n    <tr>\n      <th>...</th>\n      <td>...</td>\n      <td>...</td>\n    </tr>\n    <tr>\n      <th>361</th>\n      <td>2020-12-27</td>\n      <td>Sunday</td>\n    </tr>\n    <tr>\n      <th>362</th>\n      <td>2020-12-28</td>\n      <td>Monday</td>\n    </tr>\n    <tr>\n      <th>363</th>\n      <td>2020-12-29</td>\n      <td>Tuesday</td>\n    </tr>\n    <tr>\n      <th>364</th>\n      <td>2020-12-30</td>\n      <td>Wednesday</td>\n    </tr>\n    <tr>\n      <th>365</th>\n      <td>2020-12-31</td>\n      <td>Thursday</td>\n    </tr>\n  </tbody>\n</table>\n<p>366 rows × 2 columns</p>\n</div>"
     },
     "metadata": {},
     "execution_count": 123
    }
   ],
   "source": [
    "df = create_date_table()\n",
    "df = df[[\"Date\", \"Day\"]]\n",
    "df"
   ]
  },
  {
   "cell_type": "code",
   "execution_count": 124,
   "metadata": {},
   "outputs": [
    {
     "output_type": "execute_result",
     "data": {
      "text/plain": [
       "           Date  hour  price        Day\n",
       "0    2020-01-01     1  41.88  Wednesday\n",
       "1    2020-01-01     2  38.60  Wednesday\n",
       "2    2020-01-01     3  36.55  Wednesday\n",
       "3    2020-01-01     4  32.32  Wednesday\n",
       "4    2020-01-01     5  30.85  Wednesday\n",
       "...         ...   ...    ...        ...\n",
       "8779 2020-12-31    20  59.47   Thursday\n",
       "8780 2020-12-31    21  56.70   Thursday\n",
       "8781 2020-12-31    22  52.44   Thursday\n",
       "8782 2020-12-31    23  51.86   Thursday\n",
       "8783 2020-12-31    24  52.26   Thursday\n",
       "\n",
       "[8784 rows x 4 columns]"
      ],
      "text/html": "<div>\n<style scoped>\n    .dataframe tbody tr th:only-of-type {\n        vertical-align: middle;\n    }\n\n    .dataframe tbody tr th {\n        vertical-align: top;\n    }\n\n    .dataframe thead th {\n        text-align: right;\n    }\n</style>\n<table border=\"1\" class=\"dataframe\">\n  <thead>\n    <tr style=\"text-align: right;\">\n      <th></th>\n      <th>Date</th>\n      <th>hour</th>\n      <th>price</th>\n      <th>Day</th>\n    </tr>\n  </thead>\n  <tbody>\n    <tr>\n      <th>0</th>\n      <td>2020-01-01</td>\n      <td>1</td>\n      <td>41.88</td>\n      <td>Wednesday</td>\n    </tr>\n    <tr>\n      <th>1</th>\n      <td>2020-01-01</td>\n      <td>2</td>\n      <td>38.60</td>\n      <td>Wednesday</td>\n    </tr>\n    <tr>\n      <th>2</th>\n      <td>2020-01-01</td>\n      <td>3</td>\n      <td>36.55</td>\n      <td>Wednesday</td>\n    </tr>\n    <tr>\n      <th>3</th>\n      <td>2020-01-01</td>\n      <td>4</td>\n      <td>32.32</td>\n      <td>Wednesday</td>\n    </tr>\n    <tr>\n      <th>4</th>\n      <td>2020-01-01</td>\n      <td>5</td>\n      <td>30.85</td>\n      <td>Wednesday</td>\n    </tr>\n    <tr>\n      <th>...</th>\n      <td>...</td>\n      <td>...</td>\n      <td>...</td>\n      <td>...</td>\n    </tr>\n    <tr>\n      <th>8779</th>\n      <td>2020-12-31</td>\n      <td>20</td>\n      <td>59.47</td>\n      <td>Thursday</td>\n    </tr>\n    <tr>\n      <th>8780</th>\n      <td>2020-12-31</td>\n      <td>21</td>\n      <td>56.70</td>\n      <td>Thursday</td>\n    </tr>\n    <tr>\n      <th>8781</th>\n      <td>2020-12-31</td>\n      <td>22</td>\n      <td>52.44</td>\n      <td>Thursday</td>\n    </tr>\n    <tr>\n      <th>8782</th>\n      <td>2020-12-31</td>\n      <td>23</td>\n      <td>51.86</td>\n      <td>Thursday</td>\n    </tr>\n    <tr>\n      <th>8783</th>\n      <td>2020-12-31</td>\n      <td>24</td>\n      <td>52.26</td>\n      <td>Thursday</td>\n    </tr>\n  </tbody>\n</table>\n<p>8784 rows × 4 columns</p>\n</div>"
     },
     "metadata": {},
     "execution_count": 124
    }
   ],
   "source": [
    "df_with_data = pd.merge(new_data, df, how=\"inner\", on=\"Date\")\n",
    "df_with_data"
   ]
  },
  {
   "cell_type": "code",
   "execution_count": 125,
   "metadata": {},
   "outputs": [
    {
     "output_type": "execute_result",
     "data": {
      "text/plain": [
       "array(['Wednesday', 'Thursday', 'Friday', 'Saturday', 'Sunday', 'Monday',\n",
       "       'Tuesday'], dtype=object)"
      ]
     },
     "metadata": {},
     "execution_count": 125
    }
   ],
   "source": [
    "df_with_data.Day.unique()"
   ]
  },
  {
   "cell_type": "code",
   "execution_count": 126,
   "metadata": {},
   "outputs": [],
   "source": [
    "yearly_mean = df_with_data.price.mean()"
   ]
  },
  {
   "cell_type": "code",
   "execution_count": 127,
   "metadata": {},
   "outputs": [
    {
     "output_type": "execute_result",
     "data": {
      "text/plain": [
       "         Date  hour  price        Day\n",
       "7  2020-01-01     8  30.00  Wednesday\n",
       "8  2020-01-01     9  30.65  Wednesday\n",
       "9  2020-01-01    10  30.65  Wednesday\n",
       "10 2020-01-01    11  30.27  Wednesday\n",
       "11 2020-01-01    12  30.34  Wednesday"
      ],
      "text/html": "<div>\n<style scoped>\n    .dataframe tbody tr th:only-of-type {\n        vertical-align: middle;\n    }\n\n    .dataframe tbody tr th {\n        vertical-align: top;\n    }\n\n    .dataframe thead th {\n        text-align: right;\n    }\n</style>\n<table border=\"1\" class=\"dataframe\">\n  <thead>\n    <tr style=\"text-align: right;\">\n      <th></th>\n      <th>Date</th>\n      <th>hour</th>\n      <th>price</th>\n      <th>Day</th>\n    </tr>\n  </thead>\n  <tbody>\n    <tr>\n      <th>7</th>\n      <td>2020-01-01</td>\n      <td>8</td>\n      <td>30.00</td>\n      <td>Wednesday</td>\n    </tr>\n    <tr>\n      <th>8</th>\n      <td>2020-01-01</td>\n      <td>9</td>\n      <td>30.65</td>\n      <td>Wednesday</td>\n    </tr>\n    <tr>\n      <th>9</th>\n      <td>2020-01-01</td>\n      <td>10</td>\n      <td>30.65</td>\n      <td>Wednesday</td>\n    </tr>\n    <tr>\n      <th>10</th>\n      <td>2020-01-01</td>\n      <td>11</td>\n      <td>30.27</td>\n      <td>Wednesday</td>\n    </tr>\n    <tr>\n      <th>11</th>\n      <td>2020-01-01</td>\n      <td>12</td>\n      <td>30.34</td>\n      <td>Wednesday</td>\n    </tr>\n  </tbody>\n</table>\n</div>"
     },
     "metadata": {},
     "execution_count": 127
    }
   ],
   "source": [
    "#haupt_tarrif = df_with_data\n",
    "haupt_tarrif = df_with_data[df_with_data[\"hour\"].isin([8, 9, 10, 11, 12, 13, 14, 15, 16, 17, 18, 19]) & df_with_data[\"Day\"].isin(['Wednesday', 'Thursday', 'Friday', 'Monday', 'Tuesday'])]\n",
    "haupt_tarrif.head()"
   ]
  },
  {
   "cell_type": "code",
   "execution_count": 128,
   "metadata": {},
   "outputs": [
    {
     "output_type": "execute_result",
     "data": {
      "text/plain": [
       "array(['Wednesday', 'Thursday', 'Friday', 'Monday', 'Tuesday'],\n",
       "      dtype=object)"
      ]
     },
     "metadata": {},
     "execution_count": 128
    }
   ],
   "source": [
    "haupt_tarrif.Day.unique()"
   ]
  },
  {
   "cell_type": "code",
   "execution_count": 129,
   "metadata": {},
   "outputs": [
    {
     "output_type": "execute_result",
     "data": {
      "text/plain": [
       "3144"
      ]
     },
     "metadata": {},
     "execution_count": 129
    }
   ],
   "source": [
    "haupt_tarrif.Day.count()"
   ]
  },
  {
   "cell_type": "code",
   "execution_count": 130,
   "metadata": {},
   "outputs": [
    {
     "output_type": "error",
     "ename": "SyntaxError",
     "evalue": "invalid syntax (2203680852.py, line 1)",
     "traceback": [
      "\u001b[0;36m  File \u001b[0;32m\"/var/folders/3d/5tmbtv_x705103j1f7_ct0dw0000gn/T/ipykernel_19993/2203680852.py\"\u001b[0;36m, line \u001b[0;32m1\u001b[0m\n\u001b[0;31m    df = 70 rows\u001b[0m\n\u001b[0m            ^\u001b[0m\n\u001b[0;31mSyntaxError\u001b[0m\u001b[0;31m:\u001b[0m invalid syntax\n"
     ]
    }
   ],
   "source": [
    "df = 70 rows\n",
    "HT = 25 \n",
    "NT = 70 -25 = 45"
   ]
  },
  {
   "cell_type": "code",
   "execution_count": 131,
   "metadata": {},
   "outputs": [
    {
     "output_type": "stream",
     "name": "stderr",
     "text": [
      "/var/folders/3d/5tmbtv_x705103j1f7_ct0dw0000gn/T/ipykernel_19993/452124137.py:2: UserWarning: Boolean Series key will be reindexed to match DataFrame index.\n  df_with_data.drop(haupt_tarrif[cond].index, inplace = True)\n"
     ]
    }
   ],
   "source": [
    "cond = df_with_data['hour'].isin(haupt_tarrif['hour'])\n",
    "df_with_data.drop(haupt_tarrif[cond].index, inplace = True)\n"
   ]
  },
  {
   "cell_type": "code",
   "execution_count": 132,
   "metadata": {},
   "outputs": [],
   "source": [
    "#neben_tarrif = df_with_data[(df_with_data[\"hour\"].isin([1, 2, 3, 4, 5, 6, 7, 20, 21, 22, 23, 24]) & df_with_data[\"Day\"].isin(['Wednesday', 'Thursday', 'Friday', 'Monday', 'Tuesday'])) |(df_with_data[\"Day\"].isin(['Saturday', 'Sunday']))]\n",
    "\n",
    "#neben_tarrif.head()"
   ]
  },
  {
   "cell_type": "code",
   "execution_count": 144,
   "metadata": {},
   "outputs": [
    {
     "output_type": "execute_result",
     "data": {
      "text/plain": [
       "         Date  hour  price        Day\n",
       "7  2020-01-01     8  30.00  Wednesday\n",
       "8  2020-01-01     9  30.65  Wednesday\n",
       "9  2020-01-01    10  30.65  Wednesday\n",
       "10 2020-01-01    11  30.27  Wednesday\n",
       "11 2020-01-01    12  30.34  Wednesday"
      ],
      "text/html": "<div>\n<style scoped>\n    .dataframe tbody tr th:only-of-type {\n        vertical-align: middle;\n    }\n\n    .dataframe tbody tr th {\n        vertical-align: top;\n    }\n\n    .dataframe thead th {\n        text-align: right;\n    }\n</style>\n<table border=\"1\" class=\"dataframe\">\n  <thead>\n    <tr style=\"text-align: right;\">\n      <th></th>\n      <th>Date</th>\n      <th>hour</th>\n      <th>price</th>\n      <th>Day</th>\n    </tr>\n  </thead>\n  <tbody>\n    <tr>\n      <th>7</th>\n      <td>2020-01-01</td>\n      <td>8</td>\n      <td>30.00</td>\n      <td>Wednesday</td>\n    </tr>\n    <tr>\n      <th>8</th>\n      <td>2020-01-01</td>\n      <td>9</td>\n      <td>30.65</td>\n      <td>Wednesday</td>\n    </tr>\n    <tr>\n      <th>9</th>\n      <td>2020-01-01</td>\n      <td>10</td>\n      <td>30.65</td>\n      <td>Wednesday</td>\n    </tr>\n    <tr>\n      <th>10</th>\n      <td>2020-01-01</td>\n      <td>11</td>\n      <td>30.27</td>\n      <td>Wednesday</td>\n    </tr>\n    <tr>\n      <th>11</th>\n      <td>2020-01-01</td>\n      <td>12</td>\n      <td>30.34</td>\n      <td>Wednesday</td>\n    </tr>\n  </tbody>\n</table>\n</div>"
     },
     "metadata": {},
     "execution_count": 144
    }
   ],
   "source": [
    "haupt_tarrif.head()"
   ]
  },
  {
   "cell_type": "code",
   "execution_count": 145,
   "metadata": {},
   "outputs": [
    {
     "output_type": "execute_result",
     "data": {
      "text/plain": [
       "        Date  hour  price        Day\n",
       "0 2020-01-01     1  41.88  Wednesday\n",
       "1 2020-01-01     2  38.60  Wednesday\n",
       "2 2020-01-01     3  36.55  Wednesday\n",
       "3 2020-01-01     4  32.32  Wednesday\n",
       "4 2020-01-01     5  30.85  Wednesday"
      ],
      "text/html": "<div>\n<style scoped>\n    .dataframe tbody tr th:only-of-type {\n        vertical-align: middle;\n    }\n\n    .dataframe tbody tr th {\n        vertical-align: top;\n    }\n\n    .dataframe thead th {\n        text-align: right;\n    }\n</style>\n<table border=\"1\" class=\"dataframe\">\n  <thead>\n    <tr style=\"text-align: right;\">\n      <th></th>\n      <th>Date</th>\n      <th>hour</th>\n      <th>price</th>\n      <th>Day</th>\n    </tr>\n  </thead>\n  <tbody>\n    <tr>\n      <th>0</th>\n      <td>2020-01-01</td>\n      <td>1</td>\n      <td>41.88</td>\n      <td>Wednesday</td>\n    </tr>\n    <tr>\n      <th>1</th>\n      <td>2020-01-01</td>\n      <td>2</td>\n      <td>38.60</td>\n      <td>Wednesday</td>\n    </tr>\n    <tr>\n      <th>2</th>\n      <td>2020-01-01</td>\n      <td>3</td>\n      <td>36.55</td>\n      <td>Wednesday</td>\n    </tr>\n    <tr>\n      <th>3</th>\n      <td>2020-01-01</td>\n      <td>4</td>\n      <td>32.32</td>\n      <td>Wednesday</td>\n    </tr>\n    <tr>\n      <th>4</th>\n      <td>2020-01-01</td>\n      <td>5</td>\n      <td>30.85</td>\n      <td>Wednesday</td>\n    </tr>\n  </tbody>\n</table>\n</div>"
     },
     "metadata": {},
     "execution_count": 145
    }
   ],
   "source": [
    "neben_tarrif = df_with_data\n",
    "neben_tarrif.head()"
   ]
  },
  {
   "cell_type": "code",
   "execution_count": 134,
   "metadata": {},
   "outputs": [
    {
     "output_type": "execute_result",
     "data": {
      "text/plain": [
       "Date     5640\n",
       "hour     5640\n",
       "price    5640\n",
       "Day      5640\n",
       "dtype: int64"
      ]
     },
     "metadata": {},
     "execution_count": 134
    }
   ],
   "source": [
    "neben_tarrif.count()"
   ]
  },
  {
   "cell_type": "code",
   "execution_count": 135,
   "metadata": {},
   "outputs": [
    {
     "output_type": "execute_result",
     "data": {
      "text/plain": [
       "8784"
      ]
     },
     "metadata": {},
     "execution_count": 135
    }
   ],
   "source": [
    "5640 + 3144"
   ]
  },
  {
   "cell_type": "code",
   "execution_count": 136,
   "metadata": {},
   "outputs": [
    {
     "output_type": "execute_result",
     "data": {
      "text/plain": [
       "37.01998727735369"
      ]
     },
     "metadata": {},
     "execution_count": 136
    }
   ],
   "source": [
    "haupt_tarrif.price.mean()"
   ]
  },
  {
   "cell_type": "code",
   "execution_count": 137,
   "metadata": {},
   "outputs": [
    {
     "output_type": "execute_result",
     "data": {
      "text/plain": [
       "26.82136879432624"
      ]
     },
     "metadata": {},
     "execution_count": 137
    }
   ],
   "source": [
    "neben_tarrif.price.mean()"
   ]
  },
  {
   "cell_type": "code",
   "execution_count": 139,
   "metadata": {},
   "outputs": [
    {
     "output_type": "execute_result",
     "data": {
      "text/plain": [
       "30.471693989071035"
      ]
     },
     "metadata": {},
     "execution_count": 139
    }
   ],
   "source": [
    "yearly_mean"
   ]
  },
  {
   "cell_type": "code",
   "execution_count": 140,
   "metadata": {},
   "outputs": [
    {
     "output_type": "execute_result",
     "data": {
      "text/plain": [
       "1.2148975797220616"
      ]
     },
     "metadata": {},
     "execution_count": 140
    }
   ],
   "source": [
    "ht_factor = haupt_tarrif.price.mean()/yearly_mean\n",
    "ht_factor"
   ]
  },
  {
   "cell_type": "code",
   "execution_count": 141,
   "metadata": {},
   "outputs": [
    {
     "output_type": "execute_result",
     "data": {
      "text/plain": [
       "0.8802060300272765"
      ]
     },
     "metadata": {},
     "execution_count": 141
    }
   ],
   "source": [
    "nt_factor = neben_tarrif.price.mean()/yearly_mean\n",
    "nt_factor"
   ]
  },
  {
   "cell_type": "code",
   "execution_count": null,
   "metadata": {},
   "outputs": [],
   "source": []
  }
 ]
}